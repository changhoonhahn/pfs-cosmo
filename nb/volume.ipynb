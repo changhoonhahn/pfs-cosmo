{
 "cells": [
  {
   "cell_type": "markdown",
   "id": "edf23e1d",
   "metadata": {},
   "source": [
    "# estimate volume of PFS cosmology\n",
    "\n",
    "PFS is proposing to observe the redshift $0.6 < z < 2.4$ over $1200\\,{\\rm deg}^2$"
   ]
  },
  {
   "cell_type": "code",
   "execution_count": 7,
   "id": "6e5ed7db",
   "metadata": {},
   "outputs": [],
   "source": [
    "import numpy as np\n",
    "import astropy.units as u\n",
    "from astropy.cosmology import Planck13"
   ]
  },
  {
   "cell_type": "code",
   "execution_count": 10,
   "id": "40683c86",
   "metadata": {},
   "outputs": [
    {
     "name": "stdout",
     "output_type": "stream",
     "text": [
      "V =  7.149121092446292 (Gpc/h)^3\n"
     ]
    }
   ],
   "source": [
    "V_comoving = (Planck13.comoving_volume(2.4) - Planck13.comoving_volume(0.6))\n",
    "f_footprint = 1200. / (4 * np.pi * (180./np.pi)**2)\n",
    "\n",
    "print('V = ', (V_comoving.to(u.Gpc**3).value * Planck13.h**3 * f_footprint), '(Gpc/h)^3')"
   ]
  },
  {
   "cell_type": "markdown",
   "id": "e276ec37",
   "metadata": {},
   "source": [
    "Since our number density is expected to be quite low at high z, what if we trimmed that down a bit"
   ]
  },
  {
   "cell_type": "code",
   "execution_count": 11,
   "id": "0521986e",
   "metadata": {},
   "outputs": [
    {
     "name": "stdout",
     "output_type": "stream",
     "text": [
      "V =  6.188831320680829 (Gpc/h)^3\n"
     ]
    }
   ],
   "source": [
    "zmax = 2.2\n",
    "zmin = 0.6\n",
    "V_comoving = (Planck13.comoving_volume(zmax) - Planck13.comoving_volume(zmin))\n",
    "f_footprint = 1200. / (4 * np.pi * (180./np.pi)**2)\n",
    "\n",
    "print('V = ', (V_comoving.to(u.Gpc**3).value * Planck13.h**3 * f_footprint), '(Gpc/h)^3')"
   ]
  },
  {
   "cell_type": "code",
   "execution_count": 12,
   "id": "da4ae36d",
   "metadata": {},
   "outputs": [
    {
     "name": "stdout",
     "output_type": "stream",
     "text": [
      "V =  6.699743693058517 (Gpc/h)^3\n"
     ]
    }
   ],
   "source": [
    "zmax = 2.4\n",
    "zmin = 0.8\n",
    "V_comoving = (Planck13.comoving_volume(zmax) - Planck13.comoving_volume(zmin))\n",
    "f_footprint = 1200. / (4 * np.pi * (180./np.pi)**2)\n",
    "\n",
    "print('V = ', (V_comoving.to(u.Gpc**3).value * Planck13.h**3 * f_footprint), '(Gpc/h)^3')"
   ]
  },
  {
   "cell_type": "markdown",
   "id": "b894f90d",
   "metadata": {},
   "source": [
    "## how does this compare with DESI ELGs? \n",
    "Their range is $0.6 < z < 1.6$, but their primary sample is from $1.1 < z < 1.6$"
   ]
  },
  {
   "cell_type": "code",
   "execution_count": 13,
   "id": "a361b4cc",
   "metadata": {},
   "outputs": [
    {
     "name": "stdout",
     "output_type": "stream",
     "text": [
      "V =  39.64588203941614 (Gpc/h)^3\n"
     ]
    }
   ],
   "source": [
    "zmax = 1.6\n",
    "zmin = 0.6\n",
    "footprint = 14000\n",
    "V_comoving = (Planck13.comoving_volume(zmax) - Planck13.comoving_volume(zmin))\n",
    "f_footprint = footprint / (4 * np.pi * (180./np.pi)**2)\n",
    "\n",
    "print('V = ', (V_comoving.to(u.Gpc**3).value * Planck13.h**3 * f_footprint), '(Gpc/h)^3')"
   ]
  },
  {
   "cell_type": "code",
   "execution_count": 14,
   "id": "df9b87b6",
   "metadata": {},
   "outputs": [
    {
     "name": "stdout",
     "output_type": "stream",
     "text": [
      "V =  23.54441919474909 (Gpc/h)^3\n"
     ]
    }
   ],
   "source": [
    "zmax = 1.6\n",
    "zmin = 1.1\n",
    "footprint = 14000\n",
    "V_comoving = (Planck13.comoving_volume(zmax) - Planck13.comoving_volume(zmin))\n",
    "f_footprint = footprint / (4 * np.pi * (180./np.pi)**2)\n",
    "\n",
    "print('V = ', (V_comoving.to(u.Gpc**3).value * Planck13.h**3 * f_footprint), '(Gpc/h)^3')"
   ]
  },
  {
   "cell_type": "markdown",
   "id": "d94366c7",
   "metadata": {},
   "source": [
    "**DESI ELGs will cover >3 times the volume**"
   ]
  }
 ],
 "metadata": {
  "kernelspec": {
   "display_name": "uhod",
   "language": "python",
   "name": "uhod"
  },
  "language_info": {
   "codemirror_mode": {
    "name": "ipython",
    "version": 3
   },
   "file_extension": ".py",
   "mimetype": "text/x-python",
   "name": "python",
   "nbconvert_exporter": "python",
   "pygments_lexer": "ipython3",
   "version": "3.7.11"
  }
 },
 "nbformat": 4,
 "nbformat_minor": 5
}
